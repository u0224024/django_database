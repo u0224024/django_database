{
 "cells": [
  {
   "cell_type": "markdown",
   "metadata": {
    "collapsed": true
   },
   "source": [
    "# 資料庫查詢更新刪除新增操作\n",
    "\n",
    "\n",
    "使用Django的指令\n",
    "\n",
    "使用SQL指令"
   ]
  },
  {
   "cell_type": "raw",
   "metadata": {
    "collapsed": true
   },
   "source": [
    "# models.py 原始程式碼!!\n",
    "\n",
    "from django.db import models\n",
    "import numpy as np\n",
    "\n",
    "\n",
    "from django.contrib.auth.models import User\n",
    "\n",
    "\n",
    "class MyUser(models.Model):\n",
    "    #id = models.AutoField(primary_key=True)\n",
    "    #id = models.IntegerField(primary_key=True)\n",
    "    username = models.CharField('姓名', max_length = 20)\n",
    "    def __str__(self):\n",
    "        return self.username\n",
    "    #def user_average_rating(self):\n",
    "        #可以寫一個使用者的平均評分\n",
    "\n",
    "\n",
    "class Band(models.Model):\n",
    "    #id = models.AutoField(primary_key=True)\n",
    "    #id = models.IntegerField(primary_key=True)\n",
    "    name = models.CharField('樂團', max_length = 100)\n",
    "    detail = models.CharField(max_length = 6000, default='')\n",
    "    photo_url = models.CharField(max_length = 200, default='')\n",
    "\n",
    "    def __str__(self):\n",
    "        return self.name\n",
    "    def average_rating(self):\n",
    "        all_rating = self.rating_set.all()\n",
    "        '''\n",
    "        total=0\n",
    "        for r in all_rating:\n",
    "            total += r.rating\n",
    "        avg = total/all_rating.count()\n",
    "        '''\n",
    "        all_ratings = list( map(lambda x: x.get_rate(), self.rating_set.all()) )\n",
    "        avg = np.mean(all_ratings)\n",
    "        \n",
    "        return avg\n",
    "    \n",
    "\n",
    "class Rating(models.Model):\n",
    "    RATING_CHOICES = (\n",
    "        (1, '1'),\n",
    "        (2, '2'),\n",
    "        (3, '3'),\n",
    "        (4, '4'),\n",
    "        (5, '5'),\n",
    "    )\n",
    "    # user_name = models.CharField('評分者姓名',max_length=100)\n",
    "    # user = models.ForeignKey(MyUser, verbose_name='評分者', null=True)\n",
    "    user = models.ForeignKey(User, verbose_name='評分者', null=True)\n",
    "    \n",
    "    band = models.ForeignKey(Band, verbose_name='樂團')\n",
    "    rating = models.FloatField('給個評分吧!', choices=RATING_CHOICES)\n",
    "    pub_date = models.DateTimeField('評分時間')\n",
    "    comment = models.CharField('給個留言',max_length=200, blank =True)\n",
    "    def get_rate(self):\n",
    "        return self.rating\n",
    "    def __str__(self):\n",
    "        return self.user.username+\",\"+self.band.name+\":\"+str(self.rating)\n",
    "\n"
   ]
  },
  {
   "cell_type": "code",
   "execution_count": null,
   "metadata": {
    "collapsed": true
   },
   "outputs": [],
   "source": []
  },
  {
   "cell_type": "code",
   "execution_count": 3,
   "metadata": {
    "collapsed": false
   },
   "outputs": [],
   "source": [
    "import os \n",
    "os.environ.setdefault(\"DJANGO_SETTINGS_MODULE\", \"recommender.settings\")\n",
    "import django\n",
    "django.setup() "
   ]
  },
  {
   "cell_type": "code",
   "execution_count": null,
   "metadata": {
    "collapsed": true
   },
   "outputs": [],
   "source": []
  },
  {
   "cell_type": "code",
   "execution_count": 2,
   "metadata": {
    "collapsed": true
   },
   "outputs": [],
   "source": [
    "from rcmder_app.models import Band"
   ]
  },
  {
   "cell_type": "code",
   "execution_count": 3,
   "metadata": {
    "collapsed": false
   },
   "outputs": [
    {
     "data": {
      "text/plain": [
       "10"
      ]
     },
     "execution_count": 3,
     "metadata": {},
     "output_type": "execute_result"
    }
   ],
   "source": [
    "Band.objects.count()"
   ]
  },
  {
   "cell_type": "code",
   "execution_count": 19,
   "metadata": {
    "collapsed": true
   },
   "outputs": [],
   "source": [
    "result = Band.objects.all()"
   ]
  },
  {
   "cell_type": "code",
   "execution_count": null,
   "metadata": {
    "collapsed": true
   },
   "outputs": [],
   "source": []
  },
  {
   "cell_type": "code",
   "execution_count": 20,
   "metadata": {
    "collapsed": false
   },
   "outputs": [
    {
     "name": "stdout",
     "output_type": "stream",
     "text": [
      "閃靈 11\n",
      "亂彈 12\n",
      "五月天 13\n",
      "脫拉庫 14\n",
      "蘇打綠 15\n",
      "四分衛 16\n",
      "信樂團 17\n",
      "飛兒 18\n",
      "旺福 19\n",
      "南拳媽媽 20\n"
     ]
    }
   ],
   "source": [
    "# 印出內容看看\n",
    "for b in result:\n",
    "    print(b.name, b.id)"
   ]
  },
  {
   "cell_type": "code",
   "execution_count": 22,
   "metadata": {
    "collapsed": false
   },
   "outputs": [
    {
     "name": "stdout",
     "output_type": "stream",
     "text": [
      "SELECT \"rcmder_app_band\".\"id\", \"rcmder_app_band\".\"name\", \"rcmder_app_band\".\"detail\", \"rcmder_app_band\".\"photo_url\" FROM \"rcmder_app_band\"\n"
     ]
    }
   ],
   "source": [
    "print(result.query)"
   ]
  },
  {
   "cell_type": "code",
   "execution_count": 27,
   "metadata": {
    "collapsed": false
   },
   "outputs": [
    {
     "data": {
      "text/plain": [
       "<QuerySet [<Band: 閃靈>]>"
      ]
     },
     "execution_count": 27,
     "metadata": {},
     "output_type": "execute_result"
    }
   ],
   "source": [
    "result.filter(id = 11)"
   ]
  },
  {
   "cell_type": "code",
   "execution_count": null,
   "metadata": {
    "collapsed": true
   },
   "outputs": [],
   "source": []
  },
  {
   "cell_type": "markdown",
   "metadata": {},
   "source": [
    "## 使用SQL命令      Select\n",
    "\n",
    "SQL statement in .raw() return a set of rows"
   ]
  },
  {
   "cell_type": "code",
   "execution_count": 4,
   "metadata": {
    "collapsed": true
   },
   "outputs": [],
   "source": [
    "band_list=Band.objects.raw('select * FROM rcmder_app_band')"
   ]
  },
  {
   "cell_type": "code",
   "execution_count": 5,
   "metadata": {
    "collapsed": false
   },
   "outputs": [
    {
     "data": {
      "text/plain": [
       "<RawQuerySet: select * FROM rcmder_app_band>"
      ]
     },
     "execution_count": 5,
     "metadata": {},
     "output_type": "execute_result"
    }
   ],
   "source": [
    "band_list"
   ]
  },
  {
   "cell_type": "code",
   "execution_count": 6,
   "metadata": {
    "collapsed": false
   },
   "outputs": [
    {
     "name": "stdout",
     "output_type": "stream",
     "text": [
      "閃靈 11\n",
      "亂彈 12\n",
      "五月天 13\n",
      "脫拉庫 14\n",
      "蘇打綠 15\n",
      "四分衛 16\n",
      "信樂團 17\n",
      "飛兒 18\n",
      "旺福 19\n",
      "南拳媽媽 20\n"
     ]
    }
   ],
   "source": [
    "# 印出內容看看\n",
    "for b in band_list:\n",
    "    print(b.name, b.id)"
   ]
  },
  {
   "cell_type": "code",
   "execution_count": null,
   "metadata": {
    "collapsed": true
   },
   "outputs": [],
   "source": []
  },
  {
   "cell_type": "code",
   "execution_count": null,
   "metadata": {
    "collapsed": true
   },
   "outputs": [],
   "source": []
  },
  {
   "cell_type": "markdown",
   "metadata": {},
   "source": [
    "### 方法二:使用connection.cursor"
   ]
  },
  {
   "cell_type": "code",
   "execution_count": 9,
   "metadata": {
    "collapsed": true
   },
   "outputs": [],
   "source": [
    "from django.db import connection"
   ]
  },
  {
   "cell_type": "code",
   "execution_count": 10,
   "metadata": {
    "collapsed": true
   },
   "outputs": [],
   "source": [
    "cursor = connection.cursor()"
   ]
  },
  {
   "cell_type": "code",
   "execution_count": 15,
   "metadata": {
    "collapsed": false
   },
   "outputs": [
    {
     "data": {
      "text/plain": [
       "<django.db.backends.sqlite3.base.SQLiteCursorWrapper at 0x1ef5671fd38>"
      ]
     },
     "execution_count": 15,
     "metadata": {},
     "output_type": "execute_result"
    }
   ],
   "source": [
    "cursor.execute(\"SELECT id, name FROM rcmder_app_band Order by name Limit 3\")"
   ]
  },
  {
   "cell_type": "code",
   "execution_count": 16,
   "metadata": {
    "collapsed": false
   },
   "outputs": [
    {
     "name": "stdout",
     "output_type": "stream",
     "text": [
      "[(12, '亂彈'), (13, '五月天'), (17, '信樂團')]\n"
     ]
    }
   ],
   "source": [
    "print(cursor.fetchall())"
   ]
  },
  {
   "cell_type": "code",
   "execution_count": null,
   "metadata": {
    "collapsed": true
   },
   "outputs": [],
   "source": []
  },
  {
   "cell_type": "code",
   "execution_count": 30,
   "metadata": {
    "collapsed": true
   },
   "outputs": [],
   "source": [
    "from django.db import connection"
   ]
  },
  {
   "cell_type": "code",
   "execution_count": 37,
   "metadata": {
    "collapsed": true
   },
   "outputs": [],
   "source": [
    "cursor = connection.cursor()"
   ]
  },
  {
   "cell_type": "code",
   "execution_count": 45,
   "metadata": {
    "collapsed": false
   },
   "outputs": [
    {
     "data": {
      "text/plain": [
       "<django.db.backends.sqlite3.base.SQLiteCursorWrapper at 0x1664a7303a8>"
      ]
     },
     "execution_count": 45,
     "metadata": {},
     "output_type": "execute_result"
    }
   ],
   "source": [
    "cursor.execute(\"SELECT count(*) FROM rcmder_app_band\")"
   ]
  },
  {
   "cell_type": "raw",
   "metadata": {},
   "source": [
    "cursor.execute('''SELECT count(*) FROM rcmder_app_band''')"
   ]
  },
  {
   "cell_type": "code",
   "execution_count": 46,
   "metadata": {
    "collapsed": true
   },
   "outputs": [],
   "source": [
    "numberOfrecord = cursor.fetchall()"
   ]
  },
  {
   "cell_type": "code",
   "execution_count": 47,
   "metadata": {
    "collapsed": false
   },
   "outputs": [
    {
     "name": "stdout",
     "output_type": "stream",
     "text": [
      "[(10,)]\n"
     ]
    }
   ],
   "source": [
    "print( numberOfrecord )"
   ]
  },
  {
   "cell_type": "code",
   "execution_count": null,
   "metadata": {
    "collapsed": true
   },
   "outputs": [],
   "source": []
  },
  {
   "cell_type": "code",
   "execution_count": 52,
   "metadata": {
    "collapsed": false
   },
   "outputs": [
    {
     "data": {
      "text/plain": [
       "<django.db.backends.sqlite3.base.SQLiteCursorWrapper at 0x1664a7303a8>"
      ]
     },
     "execution_count": 52,
     "metadata": {},
     "output_type": "execute_result"
    }
   ],
   "source": [
    "# WHERE查詢條件\n",
    "\n",
    "cursor.execute(\"SELECT count(*) FROM rcmder_app_band Where name = '飛兒' \")"
   ]
  },
  {
   "cell_type": "raw",
   "metadata": {
    "collapsed": false
   },
   "source": [
    "cursor.execute('SELECT count(*) FROM rcmder_app_band Where name = \"飛兒\" ')"
   ]
  },
  {
   "cell_type": "code",
   "execution_count": 53,
   "metadata": {
    "collapsed": true
   },
   "outputs": [],
   "source": [
    "numberOfrecord = cursor.fetchall()"
   ]
  },
  {
   "cell_type": "code",
   "execution_count": 54,
   "metadata": {
    "collapsed": false
   },
   "outputs": [
    {
     "name": "stdout",
     "output_type": "stream",
     "text": [
      "[(1,)]\n"
     ]
    }
   ],
   "source": [
    "print( numberOfrecord )"
   ]
  },
  {
   "cell_type": "code",
   "execution_count": null,
   "metadata": {
    "collapsed": true
   },
   "outputs": [],
   "source": []
  },
  {
   "cell_type": "code",
   "execution_count": null,
   "metadata": {
    "collapsed": true
   },
   "outputs": [],
   "source": []
  },
  {
   "cell_type": "code",
   "execution_count": 67,
   "metadata": {
    "collapsed": false
   },
   "outputs": [
    {
     "data": {
      "text/plain": [
       "<django.db.backends.sqlite3.base.SQLiteCursorWrapper at 0x1664a7303a8>"
      ]
     },
     "execution_count": 67,
     "metadata": {},
     "output_type": "execute_result"
    }
   ],
   "source": [
    "cursor.execute(\"SELECT count(*) FROM rcmder_app_band Where name = %s\", ['飛兒'])"
   ]
  },
  {
   "cell_type": "code",
   "execution_count": 68,
   "metadata": {
    "collapsed": false
   },
   "outputs": [
    {
     "name": "stdout",
     "output_type": "stream",
     "text": [
      "[(1,)]\n"
     ]
    }
   ],
   "source": [
    "print(cursor.fetchall())"
   ]
  },
  {
   "cell_type": "code",
   "execution_count": null,
   "metadata": {
    "collapsed": true
   },
   "outputs": [],
   "source": []
  },
  {
   "cell_type": "code",
   "execution_count": null,
   "metadata": {
    "collapsed": true
   },
   "outputs": [],
   "source": []
  },
  {
   "cell_type": "code",
   "execution_count": null,
   "metadata": {
    "collapsed": true
   },
   "outputs": [],
   "source": []
  },
  {
   "cell_type": "markdown",
   "metadata": {},
   "source": [
    "## Insert\n",
    "\n",
    "\n",
    "INSERT INTO table_name (column1, column2, column3, ...)\n",
    "VALUES (value1, value2, value3, ...);\n",
    "\n",
    "INSERT INTO table_name\n",
    "VALUES (value1, value2, value3, ...);"
   ]
  },
  {
   "cell_type": "code",
   "execution_count": null,
   "metadata": {
    "collapsed": true
   },
   "outputs": [],
   "source": []
  },
  {
   "cell_type": "code",
   "execution_count": 69,
   "metadata": {
    "collapsed": true
   },
   "outputs": [],
   "source": [
    "b = Band(name='董事長'\n",
    "         ,detail='動力火車（Power Station）是1997年在臺灣成立的一個演唱組合團體，由尤秋興與顏志琳兩位排灣族歌手組成，目前是華研國際音樂旗下的歌手。'\n",
    "         ,photo_url='https://zh.wikipedia.org/wiki/File:Power_Station_Taiwan.jpg'\n",
    "        )"
   ]
  },
  {
   "cell_type": "code",
   "execution_count": 70,
   "metadata": {
    "collapsed": true
   },
   "outputs": [],
   "source": [
    "b.save()"
   ]
  },
  {
   "cell_type": "code",
   "execution_count": null,
   "metadata": {
    "collapsed": true
   },
   "outputs": [],
   "source": []
  },
  {
   "cell_type": "code",
   "execution_count": 95,
   "metadata": {
    "collapsed": true
   },
   "outputs": [],
   "source": [
    "band_list=Band.objects.raw('select * FROM rcmder_app_band')"
   ]
  },
  {
   "cell_type": "code",
   "execution_count": 96,
   "metadata": {
    "collapsed": false
   },
   "outputs": [
    {
     "name": "stdout",
     "output_type": "stream",
     "text": [
      "閃靈 11\n",
      "亂彈 12\n",
      "五月天 13\n",
      "脫拉庫 14\n",
      "蘇打綠 15\n",
      "四分衛 16\n",
      "信樂團 17\n",
      "飛兒 18\n",
      "旺福 19\n",
      "南拳媽媽 20\n"
     ]
    }
   ],
   "source": [
    "for b in band_list:\n",
    "    print(b.name, b.id)"
   ]
  },
  {
   "cell_type": "code",
   "execution_count": null,
   "metadata": {
    "collapsed": true
   },
   "outputs": [],
   "source": []
  },
  {
   "cell_type": "code",
   "execution_count": null,
   "metadata": {
    "collapsed": true
   },
   "outputs": [],
   "source": []
  },
  {
   "cell_type": "markdown",
   "metadata": {},
   "source": [
    "## Update"
   ]
  },
  {
   "cell_type": "code",
   "execution_count": 74,
   "metadata": {
    "collapsed": false
   },
   "outputs": [
    {
     "data": {
      "text/plain": [
       "<django.db.backends.sqlite3.base.SQLiteCursorWrapper at 0x1664a7303a8>"
      ]
     },
     "execution_count": 74,
     "metadata": {},
     "output_type": "execute_result"
    }
   ],
   "source": [
    "cursor.execute(\"UPDATE rcmder_app_band SET name= %s WHERE id = 21\", ['動力火車'])"
   ]
  },
  {
   "cell_type": "code",
   "execution_count": null,
   "metadata": {
    "collapsed": true
   },
   "outputs": [],
   "source": []
  },
  {
   "cell_type": "code",
   "execution_count": null,
   "metadata": {
    "collapsed": true
   },
   "outputs": [],
   "source": []
  },
  {
   "cell_type": "markdown",
   "metadata": {},
   "source": [
    "## Delete\n",
    "\n",
    "DELETE FROM table_name WHERE condition;"
   ]
  },
  {
   "cell_type": "code",
   "execution_count": 79,
   "metadata": {
    "collapsed": false
   },
   "outputs": [
    {
     "data": {
      "text/plain": [
       "<django.db.backends.sqlite3.base.SQLiteCursorWrapper at 0x1664a7303a8>"
      ]
     },
     "execution_count": 79,
     "metadata": {},
     "output_type": "execute_result"
    }
   ],
   "source": [
    "cursor.execute(\"DELETE From rcmder_app_band WHERE id =21\")"
   ]
  },
  {
   "cell_type": "code",
   "execution_count": 92,
   "metadata": {
    "collapsed": false
   },
   "outputs": [
    {
     "name": "stdout",
     "output_type": "stream",
     "text": [
      "閃靈 11\n",
      "亂彈 12\n",
      "五月天 13\n",
      "脫拉庫 14\n",
      "蘇打綠 15\n",
      "四分衛 16\n",
      "信樂團 17\n",
      "飛兒 18\n",
      "旺福 19\n",
      "南拳媽媽 20\n",
      "動力火車 21\n"
     ]
    }
   ],
   "source": [
    "for b in Band.objects.all():\n",
    "    print(b.name, b.id)"
   ]
  },
  {
   "cell_type": "code",
   "execution_count": null,
   "metadata": {
    "collapsed": true
   },
   "outputs": [],
   "source": []
  },
  {
   "cell_type": "code",
   "execution_count": 94,
   "metadata": {
    "collapsed": true
   },
   "outputs": [],
   "source": [
    "# Django方式還是比較方便"
   ]
  },
  {
   "cell_type": "code",
   "execution_count": 91,
   "metadata": {
    "collapsed": true
   },
   "outputs": [],
   "source": [
    "b = Band(id = 21\n",
    "         ,name='動力火車'\n",
    "         ,detail='動力火車（Power Station）是1997年在臺灣成立的一個演唱組合團體，由尤秋興與顏志琳兩位排灣族歌手組成，目前是華研國際音樂旗下的歌手。'\n",
    "         ,photo_url='https://zh.wikipedia.org/wiki/File:Power_Station_Taiwan.jpg'\n",
    "        )\n",
    "b.save()"
   ]
  },
  {
   "cell_type": "code",
   "execution_count": null,
   "metadata": {
    "collapsed": true
   },
   "outputs": [],
   "source": []
  },
  {
   "cell_type": "code",
   "execution_count": 93,
   "metadata": {
    "collapsed": false
   },
   "outputs": [
    {
     "data": {
      "text/plain": [
       "(1, {'rcmder_app.Band': 1, 'rcmder_app.Rating': 0})"
      ]
     },
     "execution_count": 93,
     "metadata": {},
     "output_type": "execute_result"
    }
   ],
   "source": [
    "# jango的刪除寫法\n",
    "b = Band.objects.get(id = 21)\n",
    "b.delete()"
   ]
  },
  {
   "cell_type": "code",
   "execution_count": null,
   "metadata": {
    "collapsed": true
   },
   "outputs": [],
   "source": []
  },
  {
   "cell_type": "code",
   "execution_count": null,
   "metadata": {
    "collapsed": true
   },
   "outputs": [],
   "source": []
  },
  {
   "cell_type": "markdown",
   "metadata": {},
   "source": [
    "# 對 Rating表格做查詢"
   ]
  },
  {
   "cell_type": "code",
   "execution_count": 17,
   "metadata": {
    "collapsed": true
   },
   "outputs": [],
   "source": [
    "result= cursor.execute(\"SELECT * FROM rcmder_app_rating\")"
   ]
  },
  {
   "cell_type": "code",
   "execution_count": 108,
   "metadata": {
    "collapsed": false
   },
   "outputs": [
    {
     "name": "stdout",
     "output_type": "stream",
     "text": [
      "(2, 2.0, datetime.datetime(2017, 6, 2, 11, 17, 14, 891891), '', 12, 1)\n",
      "(3, 4.5, datetime.datetime(2017, 6, 2, 11, 17, 15, 24367), '', 14, 1)\n",
      "(4, 5.0, datetime.datetime(2017, 6, 2, 11, 17, 15, 166028), '', 15, 1)\n",
      "(5, 1.5, datetime.datetime(2017, 6, 2, 11, 17, 15, 258249), '', 16, 1)\n",
      "(6, 2.5, datetime.datetime(2017, 6, 2, 11, 17, 15, 359457), '', 17, 1)\n",
      "(7, 2.0, datetime.datetime(2017, 6, 2, 11, 17, 15, 449582), '', 18, 1)\n",
      "(8, 2.0, datetime.datetime(2017, 6, 2, 11, 17, 15, 547861), '', 11, 2)\n",
      "(9, 3.5, datetime.datetime(2017, 6, 2, 11, 17, 15, 686380), '', 12, 2)\n",
      "(10, 4.0, datetime.datetime(2017, 6, 2, 11, 17, 15, 774659), '', 13, 2)\n",
      "(11, 2.0, datetime.datetime(2017, 6, 2, 11, 17, 15, 863995), '', 15, 2)\n",
      "(12, 3.5, datetime.datetime(2017, 6, 2, 11, 17, 15, 947541), '', 16, 2)\n",
      "(13, 3.0, datetime.datetime(2017, 6, 2, 11, 17, 16, 23102), '', 18, 2)\n",
      "(14, 5.0, datetime.datetime(2017, 6, 2, 11, 17, 16, 108100), '', 11, 3)\n",
      "(15, 1.0, datetime.datetime(2017, 6, 2, 11, 17, 16, 194728), '', 12, 3)\n",
      "(16, 1.0, datetime.datetime(2017, 6, 2, 11, 17, 16, 369840), '', 13, 3)\n",
      "(17, 3.0, datetime.datetime(2017, 6, 2, 11, 17, 16, 685846), '', 14, 3)\n",
      "(18, 5.0, datetime.datetime(2017, 6, 2, 11, 17, 16, 790310), '', 15, 3)\n",
      "(19, 1.0, datetime.datetime(2017, 6, 2, 11, 17, 16, 864863), '', 16, 3)\n",
      "(20, 3.0, datetime.datetime(2017, 6, 2, 11, 17, 16, 939477), '', 11, 4)\n",
      "(21, 4.0, datetime.datetime(2017, 6, 2, 11, 17, 17, 23327), '', 12, 4)\n",
      "(22, 4.5, datetime.datetime(2017, 6, 2, 11, 17, 17, 203987), '', 13, 4)\n",
      "(23, 3.0, datetime.datetime(2017, 6, 2, 11, 17, 17, 287623), '', 15, 4)\n",
      "(24, 4.5, datetime.datetime(2017, 6, 2, 11, 17, 17, 372783), '', 16, 4)\n",
      "(25, 4.0, datetime.datetime(2017, 6, 2, 11, 17, 17, 461755), '', 17, 4)\n",
      "(26, 2.0, datetime.datetime(2017, 6, 2, 11, 17, 17, 586570), '', 18, 4)\n",
      "(27, 4.0, datetime.datetime(2017, 6, 2, 11, 17, 17, 679269), '', 12, 5)\n",
      "(28, 1.0, datetime.datetime(2017, 6, 2, 11, 17, 17, 765139), '', 13, 5)\n",
      "(29, 4.0, datetime.datetime(2017, 6, 2, 11, 17, 17, 850460), '', 14, 5)\n",
      "(30, 4.0, datetime.datetime(2017, 6, 2, 11, 17, 17, 931721), '', 17, 5)\n",
      "(31, 1.0, datetime.datetime(2017, 6, 2, 11, 17, 18, 6297), '', 18, 5)\n",
      "(32, 4.5, datetime.datetime(2017, 6, 2, 11, 17, 18, 81526), '', 12, 6)\n",
      "(33, 4.0, datetime.datetime(2017, 6, 2, 11, 17, 18, 162545), '', 13, 6)\n",
      "(34, 5.0, datetime.datetime(2017, 6, 2, 11, 17, 18, 246030), '', 14, 6)\n",
      "(35, 5.0, datetime.datetime(2017, 6, 2, 11, 17, 18, 342166), '', 15, 6)\n",
      "(36, 4.5, datetime.datetime(2017, 6, 2, 11, 17, 18, 423173), '', 16, 6)\n",
      "(37, 4.0, datetime.datetime(2017, 6, 2, 11, 17, 18, 518128), '', 17, 6)\n",
      "(38, 4.0, datetime.datetime(2017, 6, 2, 11, 17, 18, 608343), '', 18, 6)\n",
      "(39, 5.0, datetime.datetime(2017, 6, 2, 11, 17, 18, 707739), '', 11, 7)\n",
      "(40, 2.0, datetime.datetime(2017, 6, 2, 11, 17, 18, 797340), '', 12, 7)\n",
      "(41, 3.0, datetime.datetime(2017, 6, 2, 11, 17, 18, 926721), '', 14, 7)\n",
      "(42, 5.0, datetime.datetime(2017, 6, 2, 11, 17, 19, 14992), '', 15, 7)\n",
      "(43, 4.0, datetime.datetime(2017, 6, 2, 11, 17, 19, 98487), '', 16, 7)\n",
      "(44, 5.0, datetime.datetime(2017, 6, 2, 11, 17, 19, 403027), '', 17, 7)\n",
      "(45, 3.0, datetime.datetime(2017, 6, 2, 11, 17, 19, 654755), '', 11, 8)\n",
      "(46, 5.0, datetime.datetime(2017, 6, 2, 11, 17, 19, 956931), '', 14, 8)\n",
      "(47, 4.0, datetime.datetime(2017, 6, 2, 11, 17, 20, 56820), '', 15, 8)\n",
      "(49, 3.0, datetime.datetime(2017, 6, 2, 11, 17, 20, 232216), '', 17, 8)\n",
      "(55, 3.0, datetime.datetime(2017, 6, 3, 20, 25, 22, 306456), '', 18, 1)\n",
      "(56, 2.0, datetime.datetime(2017, 6, 4, 9, 53, 28, 509048), '', 18, 4)\n",
      "(57, 3.0, datetime.datetime(2017, 6, 4, 12, 7, 7, 302101), '', 18, 4)\n",
      "(58, 2.0, datetime.datetime(2017, 6, 4, 12, 18, 12, 300935), '', 18, 4)\n",
      "(59, 2.0, datetime.datetime(2017, 6, 4, 12, 18, 49, 331717), '', 18, 4)\n",
      "(60, 2.0, datetime.datetime(2017, 6, 4, 12, 19, 36, 400939), '', 18, 4)\n",
      "(61, 4.0, datetime.datetime(2017, 6, 4, 12, 38, 58, 849866), '', 18, 4)\n",
      "(62, 4.0, datetime.datetime(2017, 6, 4, 16, 4, 8, 526813), '', 18, 9)\n",
      "(63, 4.0, datetime.datetime(2017, 6, 5, 22, 44, 27, 408043), '', 18, 13)\n",
      "(64, 4.0, datetime.datetime(2017, 6, 5, 22, 47, 23, 84163), '', 11, 14)\n"
     ]
    }
   ],
   "source": [
    "for row in result:\n",
    "    print(row)"
   ]
  },
  {
   "cell_type": "code",
   "execution_count": null,
   "metadata": {
    "collapsed": true
   },
   "outputs": [],
   "source": []
  },
  {
   "cell_type": "code",
   "execution_count": null,
   "metadata": {
    "collapsed": true
   },
   "outputs": [],
   "source": []
  },
  {
   "cell_type": "code",
   "execution_count": 37,
   "metadata": {
    "collapsed": true
   },
   "outputs": [],
   "source": [
    "cursor = connection.cursor()"
   ]
  },
  {
   "cell_type": "code",
   "execution_count": 31,
   "metadata": {
    "collapsed": false
   },
   "outputs": [
    {
     "data": {
      "text/plain": [
       "<django.db.backends.sqlite3.base.SQLiteCursorWrapper at 0x1ef5671fd38>"
      ]
     },
     "execution_count": 31,
     "metadata": {},
     "output_type": "execute_result"
    }
   ],
   "source": [
    "# 有外部鍵 的 欄位名稱\n",
    "cursor.execute(\"SELECT user_id, band_id, rating FROM rcmder_app_rating Where rating > 4\")"
   ]
  },
  {
   "cell_type": "code",
   "execution_count": 32,
   "metadata": {
    "collapsed": false
   },
   "outputs": [
    {
     "name": "stdout",
     "output_type": "stream",
     "text": [
      "[(1, 14, 4.5), (1, 15, 5.0), (3, 11, 5.0), (3, 15, 5.0), (4, 13, 4.5), (4, 16, 4.5), (6, 12, 4.5), (6, 14, 5.0), (6, 15, 5.0), (6, 16, 4.5), (7, 11, 5.0), (7, 15, 5.0), (7, 17, 5.0), (8, 14, 5.0)]\n"
     ]
    }
   ],
   "source": [
    "print(cursor.fetchall())"
   ]
  },
  {
   "cell_type": "code",
   "execution_count": null,
   "metadata": {
    "collapsed": true
   },
   "outputs": [],
   "source": []
  },
  {
   "cell_type": "markdown",
   "metadata": {},
   "source": [
    "### 最多人評分的樂團\n",
    "\n",
    "拿不到樂團名稱"
   ]
  },
  {
   "cell_type": "raw",
   "metadata": {},
   "source": [
    "SELECT \"欄位名\" \n",
    "FROM \"表格名\" \n",
    "[WHERE \"條件\"]\n",
    "ORDER BY \"欄位名\" [ASC, DESC];"
   ]
  },
  {
   "cell_type": "code",
   "execution_count": 59,
   "metadata": {
    "collapsed": false
   },
   "outputs": [
    {
     "data": {
      "text/plain": [
       "<django.db.backends.sqlite3.base.SQLiteCursorWrapper at 0x1ef5671fd38>"
      ]
     },
     "execution_count": 59,
     "metadata": {},
     "output_type": "execute_result"
    }
   ],
   "source": [
    "# 有外部鍵 的 欄位名稱\n",
    "cursor.execute(\"SELECT band_id, Count(*) as numberOfRate FROM rcmder_app_rating Group by band_id Order by numberOfRate DESC Limit 3\")"
   ]
  },
  {
   "cell_type": "code",
   "execution_count": 60,
   "metadata": {
    "collapsed": false
   },
   "outputs": [
    {
     "name": "stdout",
     "output_type": "stream",
     "text": [
      "[(18, 14), (11, 7), (12, 7)]\n"
     ]
    }
   ],
   "source": [
    "print(cursor.fetchall())"
   ]
  },
  {
   "cell_type": "code",
   "execution_count": null,
   "metadata": {
    "collapsed": true
   },
   "outputs": [],
   "source": []
  },
  {
   "cell_type": "code",
   "execution_count": 114,
   "metadata": {
    "collapsed": false
   },
   "outputs": [
    {
     "data": {
      "text/plain": [
       "<django.db.backends.sqlite3.base.SQLiteCursorWrapper at 0x1664a7303a8>"
      ]
     },
     "execution_count": 114,
     "metadata": {},
     "output_type": "execute_result"
    }
   ],
   "source": [
    "cursor.execute(\"SELECT count(*) FROM rcmder_app_rating Where rating > '3'\")"
   ]
  },
  {
   "cell_type": "code",
   "execution_count": 115,
   "metadata": {
    "collapsed": false
   },
   "outputs": [
    {
     "name": "stdout",
     "output_type": "stream",
     "text": [
      "[(32,)]\n"
     ]
    }
   ],
   "source": [
    "print(cursor.fetchall())"
   ]
  },
  {
   "cell_type": "code",
   "execution_count": null,
   "metadata": {
    "collapsed": true
   },
   "outputs": [],
   "source": []
  },
  {
   "cell_type": "code",
   "execution_count": 117,
   "metadata": {
    "collapsed": false
   },
   "outputs": [
    {
     "data": {
      "text/plain": [
       "<django.db.backends.sqlite3.base.SQLiteCursorWrapper at 0x1664a7303a8>"
      ]
     },
     "execution_count": 117,
     "metadata": {},
     "output_type": "execute_result"
    }
   ],
   "source": [
    "cursor.execute(\"SELECT * FROM rcmder_app_rating Where rating > '3'\")"
   ]
  },
  {
   "cell_type": "code",
   "execution_count": 118,
   "metadata": {
    "collapsed": false
   },
   "outputs": [
    {
     "name": "stdout",
     "output_type": "stream",
     "text": [
      "[(1, 3.5, datetime.datetime(2017, 6, 2, 11, 17, 14, 726415), '', 11, 1), (3, 4.5, datetime.datetime(2017, 6, 2, 11, 17, 15, 24367), '', 14, 1), (4, 5.0, datetime.datetime(2017, 6, 2, 11, 17, 15, 166028), '', 15, 1), (9, 3.5, datetime.datetime(2017, 6, 2, 11, 17, 15, 686380), '', 12, 2), (10, 4.0, datetime.datetime(2017, 6, 2, 11, 17, 15, 774659), '', 13, 2), (12, 3.5, datetime.datetime(2017, 6, 2, 11, 17, 15, 947541), '', 16, 2), (14, 5.0, datetime.datetime(2017, 6, 2, 11, 17, 16, 108100), '', 11, 3), (18, 5.0, datetime.datetime(2017, 6, 2, 11, 17, 16, 790310), '', 15, 3), (21, 4.0, datetime.datetime(2017, 6, 2, 11, 17, 17, 23327), '', 12, 4), (22, 4.5, datetime.datetime(2017, 6, 2, 11, 17, 17, 203987), '', 13, 4), (24, 4.5, datetime.datetime(2017, 6, 2, 11, 17, 17, 372783), '', 16, 4), (25, 4.0, datetime.datetime(2017, 6, 2, 11, 17, 17, 461755), '', 17, 4), (27, 4.0, datetime.datetime(2017, 6, 2, 11, 17, 17, 679269), '', 12, 5), (29, 4.0, datetime.datetime(2017, 6, 2, 11, 17, 17, 850460), '', 14, 5), (30, 4.0, datetime.datetime(2017, 6, 2, 11, 17, 17, 931721), '', 17, 5), (32, 4.5, datetime.datetime(2017, 6, 2, 11, 17, 18, 81526), '', 12, 6), (33, 4.0, datetime.datetime(2017, 6, 2, 11, 17, 18, 162545), '', 13, 6), (34, 5.0, datetime.datetime(2017, 6, 2, 11, 17, 18, 246030), '', 14, 6), (35, 5.0, datetime.datetime(2017, 6, 2, 11, 17, 18, 342166), '', 15, 6), (36, 4.5, datetime.datetime(2017, 6, 2, 11, 17, 18, 423173), '', 16, 6), (37, 4.0, datetime.datetime(2017, 6, 2, 11, 17, 18, 518128), '', 17, 6), (38, 4.0, datetime.datetime(2017, 6, 2, 11, 17, 18, 608343), '', 18, 6), (39, 5.0, datetime.datetime(2017, 6, 2, 11, 17, 18, 707739), '', 11, 7), (42, 5.0, datetime.datetime(2017, 6, 2, 11, 17, 19, 14992), '', 15, 7), (43, 4.0, datetime.datetime(2017, 6, 2, 11, 17, 19, 98487), '', 16, 7), (44, 5.0, datetime.datetime(2017, 6, 2, 11, 17, 19, 403027), '', 17, 7), (46, 5.0, datetime.datetime(2017, 6, 2, 11, 17, 19, 956931), '', 14, 8), (47, 4.0, datetime.datetime(2017, 6, 2, 11, 17, 20, 56820), '', 15, 8), (61, 4.0, datetime.datetime(2017, 6, 4, 12, 38, 58, 849866), '', 18, 4), (62, 4.0, datetime.datetime(2017, 6, 4, 16, 4, 8, 526813), '', 18, 9), (63, 4.0, datetime.datetime(2017, 6, 5, 22, 44, 27, 408043), '', 18, 13), (64, 4.0, datetime.datetime(2017, 6, 5, 22, 47, 23, 84163), '', 11, 14)]\n"
     ]
    }
   ],
   "source": [
    "print(cursor.fetchall())"
   ]
  },
  {
   "cell_type": "code",
   "execution_count": null,
   "metadata": {
    "collapsed": true
   },
   "outputs": [],
   "source": []
  },
  {
   "cell_type": "code",
   "execution_count": null,
   "metadata": {
    "collapsed": true
   },
   "outputs": [],
   "source": []
  },
  {
   "cell_type": "markdown",
   "metadata": {},
   "source": [
    "## filter用法"
   ]
  },
  {
   "cell_type": "code",
   "execution_count": 73,
   "metadata": {
    "collapsed": true
   },
   "outputs": [],
   "source": [
    "from rcmder_app.models import Band, Rating"
   ]
  },
  {
   "cell_type": "code",
   "execution_count": null,
   "metadata": {
    "collapsed": true
   },
   "outputs": [],
   "source": []
  },
  {
   "cell_type": "code",
   "execution_count": 74,
   "metadata": {
    "collapsed": false
   },
   "outputs": [
    {
     "data": {
      "text/plain": [
       "<QuerySet [<Rating: Angelica,閃靈:3.5>, <Rating: Angelica,亂彈:2.0>, <Rating: Angelica,脫拉庫:4.5>, <Rating: Angelica,蘇打綠:5.0>, <Rating: Angelica,四分衛:1.5>, <Rating: Angelica,信樂團:2.5>, <Rating: Angelica,飛兒:2.0>, <Rating: Angelica,飛兒:3.0>]>"
      ]
     },
     "execution_count": 74,
     "metadata": {},
     "output_type": "execute_result"
    }
   ],
   "source": [
    "# 本身表格 欄位 條件查詢\n",
    "Rating.objects.filter(user_id=1)"
   ]
  },
  {
   "cell_type": "code",
   "execution_count": null,
   "metadata": {
    "collapsed": true
   },
   "outputs": [],
   "source": []
  },
  {
   "cell_type": "code",
   "execution_count": 75,
   "metadata": {
    "collapsed": false
   },
   "outputs": [
    {
     "data": {
      "text/plain": [
       "<QuerySet [<Rating: Angelica,蘇打綠:5.0>, <Rating: Chan,閃靈:5.0>, <Rating: Chan,蘇打綠:5.0>, <Rating: Jordyn,脫拉庫:5.0>, <Rating: Jordyn,蘇打綠:5.0>, <Rating: Sam,閃靈:5.0>, <Rating: Sam,蘇打綠:5.0>, <Rating: Sam,信樂團:5.0>, <Rating: Veronica,脫拉庫:5.0>]>"
      ]
     },
     "execution_count": 75,
     "metadata": {},
     "output_type": "execute_result"
    }
   ],
   "source": [
    "Rating.objects.filter( rating = 5 )"
   ]
  },
  {
   "cell_type": "code",
   "execution_count": 76,
   "metadata": {
    "collapsed": false
   },
   "outputs": [
    {
     "data": {
      "text/plain": [
       "<QuerySet [<Rating: Angelica,蘇打綠:5.0>, <Rating: Chan,閃靈:5.0>, <Rating: Chan,蘇打綠:5.0>]>"
      ]
     },
     "execution_count": 76,
     "metadata": {},
     "output_type": "execute_result"
    }
   ],
   "source": [
    "Rating.objects.filter( rating = 5 )[:3]  #只印出前幾筆!!"
   ]
  },
  {
   "cell_type": "code",
   "execution_count": null,
   "metadata": {
    "collapsed": true
   },
   "outputs": [],
   "source": []
  },
  {
   "cell_type": "code",
   "execution_count": null,
   "metadata": {
    "collapsed": true
   },
   "outputs": [],
   "source": []
  },
  {
   "cell_type": "code",
   "execution_count": 83,
   "metadata": {
    "collapsed": false
   },
   "outputs": [
    {
     "name": "stdout",
     "output_type": "stream",
     "text": [
      "1 Angelica\n",
      "2 Bill\n",
      "3 Chan\n",
      "4 Dan\n",
      "5 Hailey\n",
      "6 Jordyn\n",
      "7 Sam\n",
      "8 Veronica\n",
      "9 tom\n",
      "10 hello\n",
      "11 hello2\n",
      "12 Max\n",
      "13 Mis\n",
      "14 Test\n"
     ]
    }
   ],
   "source": [
    "result = Rating.user.get_queryset()\n",
    "\n",
    "for row in result:\n",
    "    print(row.id,row.username)"
   ]
  },
  {
   "cell_type": "code",
   "execution_count": null,
   "metadata": {
    "collapsed": true
   },
   "outputs": [],
   "source": []
  },
  {
   "cell_type": "markdown",
   "metadata": {},
   "source": [
    "## 某人最喜歡的前幾個樂團"
   ]
  },
  {
   "cell_type": "code",
   "execution_count": 67,
   "metadata": {
    "collapsed": false
   },
   "outputs": [
    {
     "data": {
      "text/plain": [
       "<QuerySet [<Rating: Angelica,閃靈:3.5>, <Rating: Angelica,亂彈:2.0>, <Rating: Angelica,脫拉庫:4.5>, <Rating: Angelica,蘇打綠:5.0>, <Rating: Angelica,四分衛:1.5>, <Rating: Angelica,信樂團:2.5>, <Rating: Angelica,飛兒:2.0>, <Rating: Angelica,飛兒:3.0>]>"
      ]
     },
     "execution_count": 67,
     "metadata": {},
     "output_type": "execute_result"
    }
   ],
   "source": [
    "## 操作到外部鍵 表格的欄位  user__username  注意:兩個底線 \n",
    "\n",
    "Rating.objects.filter(user__username = 'Angelica')"
   ]
  },
  {
   "cell_type": "code",
   "execution_count": null,
   "metadata": {
    "collapsed": true
   },
   "outputs": [],
   "source": []
  },
  {
   "cell_type": "code",
   "execution_count": 68,
   "metadata": {
    "collapsed": false
   },
   "outputs": [
    {
     "data": {
      "text/plain": [
       "<QuerySet [<Rating: Angelica,飛兒:2.0>, <Rating: Angelica,飛兒:3.0>]>"
      ]
     },
     "execution_count": 68,
     "metadata": {},
     "output_type": "execute_result"
    }
   ],
   "source": [
    "## 操作到外部鍵 表格的欄位  user__username  注意:兩個底線 \n",
    "\n",
    "Rating.objects.filter(user__username = 'Angelica', band__name = '飛兒')"
   ]
  },
  {
   "cell_type": "code",
   "execution_count": null,
   "metadata": {
    "collapsed": true
   },
   "outputs": [],
   "source": []
  },
  {
   "cell_type": "code",
   "execution_count": 69,
   "metadata": {
    "collapsed": false
   },
   "outputs": [
    {
     "data": {
      "text/plain": [
       "<QuerySet [<Rating: Angelica,飛兒:2.0>, <Rating: Bill,飛兒:3.0>, <Rating: Dan,飛兒:2.0>, <Rating: Hailey,飛兒:1.0>, <Rating: Jordyn,飛兒:4.0>, <Rating: Angelica,飛兒:3.0>, <Rating: Dan,飛兒:2.0>, <Rating: Dan,飛兒:3.0>, <Rating: Dan,飛兒:2.0>, <Rating: Dan,飛兒:2.0>, <Rating: Dan,飛兒:2.0>, <Rating: Dan,飛兒:4.0>, <Rating: tom,飛兒:4.0>, <Rating: Mis,飛兒:4.0>]>"
      ]
     },
     "execution_count": 69,
     "metadata": {},
     "output_type": "execute_result"
    }
   ],
   "source": [
    "## 操作到外部鍵 表格的欄位  band__name 注意:兩個底線 \n",
    "Rating.objects.filter(band__name = '飛兒')"
   ]
  },
  {
   "cell_type": "code",
   "execution_count": null,
   "metadata": {
    "collapsed": true
   },
   "outputs": [],
   "source": []
  },
  {
   "cell_type": "code",
   "execution_count": 119,
   "metadata": {
    "collapsed": false
   },
   "outputs": [
    {
     "data": {
      "text/plain": [
       "<QuerySet [<Rating: Angelica,四分衛:1.5>, <Rating: Angelica,亂彈:2.0>, <Rating: Angelica,飛兒:2.0>, <Rating: Angelica,信樂團:2.5>]>"
      ]
     },
     "execution_count": 119,
     "metadata": {},
     "output_type": "execute_result"
    }
   ],
   "source": [
    "## 操作到外部鍵 表格的欄位  user__username  注意:兩個底線 \n",
    "\n",
    "Rating.objects.filter(user__username = 'Angelica').order_by('rating')[:4]"
   ]
  },
  {
   "cell_type": "code",
   "execution_count": 109,
   "metadata": {
    "collapsed": false
   },
   "outputs": [
    {
     "data": {
      "text/plain": [
       "<QuerySet [<Rating: Angelica,蘇打綠:5.0>, <Rating: Angelica,脫拉庫:4.5>, <Rating: Angelica,閃靈:3.5>, <Rating: Angelica,飛兒:3.0>]>"
      ]
     },
     "execution_count": 109,
     "metadata": {},
     "output_type": "execute_result"
    }
   ],
   "source": [
    "## 大排到小\n",
    "\n",
    "Rating.objects.filter(user__username = 'Angelica').order_by('-rating')[:4]"
   ]
  },
  {
   "cell_type": "code",
   "execution_count": 110,
   "metadata": {
    "collapsed": false
   },
   "outputs": [
    {
     "data": {
      "text/plain": [
       "<QuerySet [<Rating: Angelica,蘇打綠:5.0>, <Rating: Angelica,脫拉庫:4.5>, <Rating: Angelica,閃靈:3.5>, <Rating: Angelica,飛兒:3.0>]>"
      ]
     },
     "execution_count": 110,
     "metadata": {},
     "output_type": "execute_result"
    }
   ],
   "source": [
    "# 大排到小\n",
    "Rating.objects.filter(user__username = 'Angelica').order_by('rating').reverse()[:4]"
   ]
  },
  {
   "cell_type": "code",
   "execution_count": null,
   "metadata": {
    "collapsed": true
   },
   "outputs": [],
   "source": []
  },
  {
   "cell_type": "code",
   "execution_count": null,
   "metadata": {
    "collapsed": true
   },
   "outputs": [],
   "source": []
  },
  {
   "cell_type": "markdown",
   "metadata": {},
   "source": [
    "### 最多人評分的樂團  用  SQL 連結兩張表\n",
    "\n",
    "拿到樂團名稱"
   ]
  },
  {
   "cell_type": "code",
   "execution_count": 96,
   "metadata": {
    "collapsed": true
   },
   "outputs": [],
   "source": [
    "from django.db import connection\n",
    "cursor = connection.cursor()"
   ]
  },
  {
   "cell_type": "code",
   "execution_count": 97,
   "metadata": {
    "collapsed": true
   },
   "outputs": [],
   "source": []
  },
  {
   "cell_type": "code",
   "execution_count": 83,
   "metadata": {
    "collapsed": false
   },
   "outputs": [
    {
     "data": {
      "text/plain": [
       "<django.db.backends.sqlite3.base.SQLiteCursorWrapper at 0x1ef5671fd38>"
      ]
     },
     "execution_count": 83,
     "metadata": {},
     "output_type": "execute_result"
    }
   ],
   "source": [
    "cursor.execute(\"SELECT B.name, Count(*) AS numberOfRate FROM rcmder_app_band B, rcmder_app_rating R Where R.band_id = B.id Group By B.id Order by numberOfRate DESC Limit 4\")"
   ]
  },
  {
   "cell_type": "code",
   "execution_count": 84,
   "metadata": {
    "collapsed": false
   },
   "outputs": [
    {
     "name": "stdout",
     "output_type": "stream",
     "text": [
      "[('飛兒', 14), ('閃靈', 7), ('亂彈', 7), ('蘇打綠', 7)]\n"
     ]
    }
   ],
   "source": [
    "print(cursor.fetchall())"
   ]
  },
  {
   "cell_type": "raw",
   "metadata": {},
   "source": [
    "參考SQL命令 \n",
    "\n",
    "SELECT A1.Region_Name REGION, SUM(A2.Sales) SALES \n",
    "FROM Geography A1, Store_Information A2 \n",
    "WHERE A1.Store_Name = A2.Store_Name \n",
    "GROUP BY A1.Region_Name;"
   ]
  },
  {
   "cell_type": "code",
   "execution_count": null,
   "metadata": {
    "collapsed": true
   },
   "outputs": [],
   "source": []
  },
  {
   "cell_type": "markdown",
   "metadata": {},
   "source": [
    "### 平均評分最高的幾個樂團  用  SQL 連結兩張表\n",
    "\n",
    "拿到樂團名稱"
   ]
  },
  {
   "cell_type": "code",
   "execution_count": 110,
   "metadata": {
    "collapsed": false
   },
   "outputs": [
    {
     "data": {
      "text/plain": [
       "<django.db.backends.sqlite3.base.SQLiteCursorWrapper at 0x10cc95b88>"
      ]
     },
     "execution_count": 110,
     "metadata": {},
     "output_type": "execute_result"
    }
   ],
   "source": [
    "cursor.execute(\"SELECT B.id, B.name, AVG(R.rating) AS avg FROM rcmder_app_band B, rcmder_app_rating R Where R.band_id = B.id Group By B.id Order by avg DESC Limit 4\")"
   ]
  },
  {
   "cell_type": "code",
   "execution_count": 111,
   "metadata": {
    "collapsed": false
   },
   "outputs": [
    {
     "name": "stdout",
     "output_type": "stream",
     "text": [
      "[(15, '蘇打綠', 4.142857142857143), (14, '脫拉庫', 4.083333333333333), (17, '信樂團', 3.75), (11, '閃靈', 3.6875)]\n"
     ]
    }
   ],
   "source": [
    "print(cursor.fetchall())"
   ]
  },
  {
   "cell_type": "code",
   "execution_count": null,
   "metadata": {
    "collapsed": true
   },
   "outputs": [],
   "source": []
  },
  {
   "cell_type": "code",
   "execution_count": 128,
   "metadata": {
    "collapsed": false
   },
   "outputs": [
    {
     "data": {
      "text/plain": [
       "<django.db.backends.sqlite3.base.SQLiteCursorWrapper at 0x10cc95b88>"
      ]
     },
     "execution_count": 128,
     "metadata": {},
     "output_type": "execute_result"
    }
   ],
   "source": [
    "cursor.execute(\"SELECT B.*, AVG(R.rating) AS avg FROM rcmder_app_band B, rcmder_app_rating R Where R.band_id = B.id Group By B.id Order by avg DESC Limit 4\")"
   ]
  },
  {
   "cell_type": "code",
   "execution_count": 120,
   "metadata": {
    "collapsed": false
   },
   "outputs": [
    {
     "name": "stdout",
     "output_type": "stream",
     "text": [
      "[(15, '蘇打綠', '蘇打綠清新自然的曲風，配合主唱青峯獨特的聲線，與豐富樂器的巧妙融合，不斷地創造出一首首膾炙人口的歌曲，《小情歌》、《飛魚》、《頻率》等等等等，輕柔細膩的歌曲總是令人沉醉其中，悄悄上癮而不自知！', 'https://i1.kknews.cc/large/96d0000dd102c03a168', 4.142857142857143), (14, '脫拉庫', '1996年成軍的脫拉庫，聲音辨識度超高的主唱國璽總是將自有的另類風格導入每首歌曲，聽著拖拉庫活潑輕快的曲風，在這涼爽的夏天配上一杯啤酒，絕對是人生一大爽事！即使是中年大叔，也要持續Rock下去！', 'https://i2.kknews.cc/large/7fa00097e5e86f44835', 4.083333333333333), (17, '信樂團', '高亢的歌聲，獨特的嗓音與驚人的爆發力，是信樂團最鮮明的特色，《一了百了》、《死了都要愛》、《天高地厚》等都是KTV必點熱門歌曲。雖然主唱信(蘇見信)在2007年單飛後一度面臨沒有主唱的窘境，不過在09年劉文杰加入後，信樂團又開始活躍在搖滾歌壇上。', 'https://i2.kknews.cc/large/96d0000dd0dd7cd60cc', 3.75), (11, '閃靈', '是台灣在國際音樂界曝光量最高的樂團！不只常有專輯登上國外音樂榜，也經常在海外大規模的音樂季做巡迴演出。', 'https://i1.kknews.cc/large/7fb000982b2a028e5b0', 3.6875)]\n"
     ]
    }
   ],
   "source": [
    "print(cursor.fetchall())"
   ]
  },
  {
   "cell_type": "code",
   "execution_count": null,
   "metadata": {
    "collapsed": true
   },
   "outputs": [],
   "source": []
  },
  {
   "cell_type": "code",
   "execution_count": 129,
   "metadata": {
    "collapsed": true
   },
   "outputs": [],
   "source": [
    "band_list = cursor.fetchall()"
   ]
  },
  {
   "cell_type": "code",
   "execution_count": 133,
   "metadata": {
    "collapsed": false
   },
   "outputs": [
    {
     "name": "stdout",
     "output_type": "stream",
     "text": [
      "15 蘇打綠 4.142857142857143\n",
      "14 脫拉庫 4.083333333333333\n",
      "17 信樂團 3.75\n",
      "11 閃靈 3.6875\n"
     ]
    }
   ],
   "source": [
    "#SQL缺點： 查詢之後會失去欄位資訊\n",
    "for b in band_list:\n",
    "    print(b[0], b[1],b[4])"
   ]
  },
  {
   "cell_type": "code",
   "execution_count": null,
   "metadata": {
    "collapsed": true
   },
   "outputs": [],
   "source": []
  },
  {
   "cell_type": "code",
   "execution_count": null,
   "metadata": {
    "collapsed": true
   },
   "outputs": [],
   "source": []
  },
  {
   "cell_type": "markdown",
   "metadata": {},
   "source": [
    "## 如何拿到average_rating分數?\n",
    "\n",
    "若有樂團沒有評分  會有warning訊息 需在models.py中特別處理\n",
    "\n",
    "average_rating()這個欄位無法直接被用在filter, order_by"
   ]
  },
  {
   "cell_type": "code",
   "execution_count": 18,
   "metadata": {
    "collapsed": false
   },
   "outputs": [],
   "source": [
    "from rcmder_app.models import Band\n",
    "band_list = Band.objects.all()"
   ]
  },
  {
   "cell_type": "code",
   "execution_count": 20,
   "metadata": {
    "collapsed": false
   },
   "outputs": [
    {
     "data": {
      "text/plain": [
       "<QuerySet [<Band: 閃靈>, <Band: 亂彈>, <Band: 五月天>, <Band: 脫拉庫>, <Band: 蘇打綠>, <Band: 四分衛>, <Band: 信樂團>, <Band: 飛兒>, <Band: 旺福>, <Band: 南拳媽媽>]>"
      ]
     },
     "execution_count": 20,
     "metadata": {},
     "output_type": "execute_result"
    }
   ],
   "source": [
    "band_list"
   ]
  },
  {
   "cell_type": "code",
   "execution_count": 34,
   "metadata": {
    "collapsed": false
   },
   "outputs": [
    {
     "name": "stdout",
     "output_type": "stream",
     "text": [
      "11 閃靈 7 3.642857142857143\n",
      "12 亂彈 7 3.0\n",
      "13 五月天 5 2.9\n",
      "14 脫拉庫 6 4.083333333333333\n",
      "15 蘇打綠 7 4.142857142857143\n",
      "16 四分衛 6 3.1666666666666665\n",
      "17 信樂團 6 3.75\n",
      "18 飛兒 14 2.7142857142857144\n",
      "19 旺福 0 0\n",
      "20 南拳媽媽 0 0\n"
     ]
    }
   ],
   "source": [
    "for b in band_list:\n",
    "    print(b.id, b.name, b.rating_set.count(), b.average_rating())"
   ]
  },
  {
   "cell_type": "code",
   "execution_count": 35,
   "metadata": {
    "collapsed": false
   },
   "outputs": [
    {
     "data": {
      "text/plain": [
       "[('閃靈', 3.642857142857143),\n",
       " ('亂彈', 3.0),\n",
       " ('五月天', 2.9),\n",
       " ('脫拉庫', 4.083333333333333),\n",
       " ('蘇打綠', 4.142857142857143),\n",
       " ('四分衛', 3.1666666666666665),\n",
       " ('信樂團', 3.75),\n",
       " ('飛兒', 2.7142857142857144),\n",
       " ('旺福', 0),\n",
       " ('南拳媽媽', 0)]"
      ]
     },
     "execution_count": 35,
     "metadata": {},
     "output_type": "execute_result"
    }
   ],
   "source": [
    "[(b.name, b.average_rating()) for b in band_list]"
   ]
  },
  {
   "cell_type": "code",
   "execution_count": 36,
   "metadata": {
    "collapsed": true
   },
   "outputs": [],
   "source": [
    "top_band = [(b.id, b.name, b.rating_set.count(), b.average_rating()) for b in band_list]"
   ]
  },
  {
   "cell_type": "code",
   "execution_count": 93,
   "metadata": {
    "collapsed": false
   },
   "outputs": [],
   "source": [
    "from operator import itemgetter\n",
    "sorted_top_band = sorted(top_band, key=itemgetter(3),  reverse=True)[:5]"
   ]
  },
  {
   "cell_type": "code",
   "execution_count": 94,
   "metadata": {
    "collapsed": false
   },
   "outputs": [
    {
     "data": {
      "text/plain": [
       "[(15, '蘇打綠', 7, 4.142857142857143),\n",
       " (14, '脫拉庫', 6, 4.083333333333333),\n",
       " (17, '信樂團', 6, 3.75),\n",
       " (11, '閃靈', 7, 3.642857142857143),\n",
       " (16, '四分衛', 6, 3.1666666666666665)]"
      ]
     },
     "execution_count": 94,
     "metadata": {},
     "output_type": "execute_result"
    }
   ],
   "source": [
    "sorted_top_band"
   ]
  },
  {
   "cell_type": "code",
   "execution_count": null,
   "metadata": {
    "collapsed": true
   },
   "outputs": [],
   "source": []
  },
  {
   "cell_type": "code",
   "execution_count": 50,
   "metadata": {
    "collapsed": false
   },
   "outputs": [
    {
     "name": "stdout",
     "output_type": "stream",
     "text": [
      "11 閃靈 7 3.642857142857143\n",
      "12 亂彈 7 3.0\n",
      "13 五月天 5 2.9\n",
      "14 脫拉庫 6 4.083333333333333\n",
      "15 蘇打綠 7 4.142857142857143\n",
      "16 四分衛 6 3.1666666666666665\n",
      "17 信樂團 6 3.75\n",
      "18 飛兒 14 2.7142857142857144\n",
      "19 旺福 0 0\n",
      "20 南拳媽媽 0 0\n"
     ]
    }
   ],
   "source": [
    "for b in band_list:\n",
    "    print(b.id, b.name, b.rating_set.count(), b.average_rating())"
   ]
  },
  {
   "cell_type": "code",
   "execution_count": null,
   "metadata": {
    "collapsed": true
   },
   "outputs": [],
   "source": []
  },
  {
   "cell_type": "code",
   "execution_count": null,
   "metadata": {
    "collapsed": true
   },
   "outputs": [],
   "source": []
  },
  {
   "cell_type": "markdown",
   "metadata": {},
   "source": [
    "## Band的關聯  rating_set\n",
    "\n",
    "\n",
    "The _set is a reverse lookup.\n",
    "\n",
    "ForeignKey is 1-to-many relationship. Hence, the reverse is a queryset.\n",
    "\n",
    "給一個band名稱，查出這個樂團的所有評分"
   ]
  },
  {
   "cell_type": "code",
   "execution_count": 85,
   "metadata": {
    "collapsed": true
   },
   "outputs": [],
   "source": [
    "my_rating_set = Band.objects.get(pk=11).rating_set"
   ]
  },
  {
   "cell_type": "code",
   "execution_count": 87,
   "metadata": {
    "collapsed": false
   },
   "outputs": [
    {
     "name": "stdout",
     "output_type": "stream",
     "text": [
      "{'pub_date': datetime.datetime(2017, 6, 2, 11, 17, 14, 726415, tzinfo=<UTC>), 'user_id': 1, 'rating': 3.5, 'band_id': 11, 'id': 1, 'comment': ''}\n",
      "{'pub_date': datetime.datetime(2017, 6, 2, 11, 17, 15, 547861, tzinfo=<UTC>), 'user_id': 2, 'rating': 2.0, 'band_id': 11, 'id': 8, 'comment': ''}\n",
      "{'pub_date': datetime.datetime(2017, 6, 2, 11, 17, 16, 108100, tzinfo=<UTC>), 'user_id': 3, 'rating': 5.0, 'band_id': 11, 'id': 14, 'comment': ''}\n",
      "{'pub_date': datetime.datetime(2017, 6, 2, 11, 17, 16, 939477, tzinfo=<UTC>), 'user_id': 4, 'rating': 3.0, 'band_id': 11, 'id': 20, 'comment': ''}\n",
      "{'pub_date': datetime.datetime(2017, 6, 2, 11, 17, 18, 707739, tzinfo=<UTC>), 'user_id': 7, 'rating': 5.0, 'band_id': 11, 'id': 39, 'comment': ''}\n",
      "{'pub_date': datetime.datetime(2017, 6, 2, 11, 17, 19, 654755, tzinfo=<UTC>), 'user_id': 8, 'rating': 3.0, 'band_id': 11, 'id': 45, 'comment': ''}\n",
      "{'pub_date': datetime.datetime(2017, 6, 5, 22, 47, 23, 84163, tzinfo=<UTC>), 'user_id': 14, 'rating': 4.0, 'band_id': 11, 'id': 64, 'comment': ''}\n"
     ]
    }
   ],
   "source": [
    "for row in my_rating_set.values():\n",
    "    print(row)"
   ]
  },
  {
   "cell_type": "code",
   "execution_count": 88,
   "metadata": {
    "collapsed": false
   },
   "outputs": [
    {
     "name": "stdout",
     "output_type": "stream",
     "text": [
      "Angelica,閃靈:3.5\n",
      "Bill,閃靈:2.0\n",
      "Chan,閃靈:5.0\n",
      "Dan,閃靈:3.0\n",
      "Sam,閃靈:5.0\n",
      "Veronica,閃靈:3.0\n",
      "Test,閃靈:4.0\n"
     ]
    }
   ],
   "source": [
    "for row in my_rating_set.all():\n",
    "    print(row)"
   ]
  },
  {
   "cell_type": "code",
   "execution_count": null,
   "metadata": {
    "collapsed": true
   },
   "outputs": [],
   "source": []
  },
  {
   "cell_type": "raw",
   "metadata": {},
   "source": [
    "參考線上文件\n",
    "\n",
    "https://docs.djangoproject.com/en/1.11/topics/db/models/\n",
    "https://docs.djangoproject.com/en/1.11/topics/db/queries/#making-queries\n",
    "    "
   ]
  }
 ],
 "metadata": {
  "anaconda-cloud": {},
  "kernelspec": {
   "display_name": "Python [conda root]",
   "language": "python",
   "name": "conda-root-py"
  },
  "language_info": {
   "codemirror_mode": {
    "name": "ipython",
    "version": 3
   },
   "file_extension": ".py",
   "mimetype": "text/x-python",
   "name": "python",
   "nbconvert_exporter": "python",
   "pygments_lexer": "ipython3",
   "version": "3.5.2"
  }
 },
 "nbformat": 4,
 "nbformat_minor": 2
}
